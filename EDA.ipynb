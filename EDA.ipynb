{
 "cells": [
  {
   "attachments": {},
   "cell_type": "markdown",
   "metadata": {},
   "source": [
    "\n",
    "# **Exploratory Data Analysis on IT Salary Survey for the European Union 2020**\n",
    "\n"
   ]
  },
  {
   "attachments": {},
   "cell_type": "markdown",
   "metadata": {},
   "source": [
    "## Importing Packages"
   ]
  },
  {
   "cell_type": "code",
   "execution_count": null,
   "metadata": {},
   "outputs": [],
   "source": [
    "import pandas as pd \n",
    "import seaborn  as sns\n",
    "import matplotlib.pyplot as plt\n",
    "import plotly.express as px"
   ]
  },
  {
   "attachments": {},
   "cell_type": "markdown",
   "metadata": {},
   "source": [
    "## Reading data to Pandas Dataframes"
   ]
  },
  {
   "cell_type": "code",
   "execution_count": null,
   "metadata": {},
   "outputs": [
    {
     "ename": "",
     "evalue": "",
     "output_type": "error",
     "traceback": [
      "\u001b[1;31mFailed to start the Kernel. \n",
      "\u001b[1;31mUnable to start Kernel 'Python 3' due to connection timeout. \n",
      "\u001b[1;31mView Jupyter <a href='command:jupyter.viewOutput'>log</a> for further details."
     ]
    }
   ],
   "source": [
    "df1= pd.read_csv(\"C:/Users/Admin 21/Downloads/LUX BOOTCAMP/IT Salary Survey EU  2020.csv\")\n",
    "df1.head(2)\n"
   ]
  },
  {
   "attachments": {},
   "cell_type": "markdown",
   "metadata": {},
   "source": [
    "## Inspecting Columns and Renaming to Short and  Uniform Column Names"
   ]
  },
  {
   "cell_type": "code",
   "execution_count": null,
   "metadata": {},
   "outputs": [
    {
     "data": {
      "text/plain": [
       "Index(['Timestamp', 'Age', 'Gender', 'City', 'Position ',\n",
       "       'Total years of experience', 'Years of experience in Germany',\n",
       "       'Seniority level', 'Your main technology / programming language',\n",
       "       'Other technologies/programming languages you use often',\n",
       "       'Yearly brutto salary (without bonus and stocks) in EUR',\n",
       "       'Yearly bonus + stocks in EUR',\n",
       "       'Annual brutto salary (without bonus and stocks) one year ago. Only answer if staying in the same country',\n",
       "       'Annual bonus+stocks one year ago. Only answer if staying in same country',\n",
       "       'Number of vacation days', 'Employment status', 'Сontract duration',\n",
       "       'Main language at work', 'Company size', 'Company type',\n",
       "       'Have you lost your job due to the coronavirus outbreak?',\n",
       "       'Have you been forced to have a shorter working week (Kurzarbeit)? If yes, how many hours per week',\n",
       "       'Have you received additional monetary support from your employer due to Work From Home? If yes, how much in 2020 in EUR'],\n",
       "      dtype='object')"
      ]
     },
     "execution_count": 4,
     "metadata": {},
     "output_type": "execute_result"
    }
   ],
   "source": [
    "df1.columns"
   ]
  },
  {
   "cell_type": "code",
   "execution_count": null,
   "metadata": {},
   "outputs": [
    {
     "data": {
      "text/html": [
       "<div>\n",
       "<style scoped>\n",
       "    .dataframe tbody tr th:only-of-type {\n",
       "        vertical-align: middle;\n",
       "    }\n",
       "\n",
       "    .dataframe tbody tr th {\n",
       "        vertical-align: top;\n",
       "    }\n",
       "\n",
       "    .dataframe thead th {\n",
       "        text-align: right;\n",
       "    }\n",
       "</style>\n",
       "<table border=\"1\" class=\"dataframe\">\n",
       "  <thead>\n",
       "    <tr style=\"text-align: right;\">\n",
       "      <th></th>\n",
       "      <th>date</th>\n",
       "      <th>age</th>\n",
       "      <th>gender</th>\n",
       "      <th>city</th>\n",
       "      <th>position</th>\n",
       "      <th>experience</th>\n",
       "      <th>experience_germany</th>\n",
       "      <th>employee_level</th>\n",
       "      <th>programming_lang</th>\n",
       "      <th>other_prog</th>\n",
       "      <th>...</th>\n",
       "      <th>employment_benefits_prev</th>\n",
       "      <th>vacation_days</th>\n",
       "      <th>employment_status</th>\n",
       "      <th>contract_type</th>\n",
       "      <th>language</th>\n",
       "      <th>company_size</th>\n",
       "      <th>company_type</th>\n",
       "      <th>covid_laidoff</th>\n",
       "      <th>hoursforced</th>\n",
       "      <th>addmoney_received</th>\n",
       "    </tr>\n",
       "  </thead>\n",
       "  <tbody>\n",
       "    <tr>\n",
       "      <th>0</th>\n",
       "      <td>24/11/2020 11:14:15</td>\n",
       "      <td>26.0</td>\n",
       "      <td>Male</td>\n",
       "      <td>Munich</td>\n",
       "      <td>Software Engineer</td>\n",
       "      <td>5</td>\n",
       "      <td>3</td>\n",
       "      <td>Senior</td>\n",
       "      <td>TypeScript</td>\n",
       "      <td>Kotlin, Javascript / Typescript</td>\n",
       "      <td>...</td>\n",
       "      <td>10000</td>\n",
       "      <td>30</td>\n",
       "      <td>Full-time employee</td>\n",
       "      <td>Unlimited contract</td>\n",
       "      <td>English</td>\n",
       "      <td>51-100</td>\n",
       "      <td>Product</td>\n",
       "      <td>No</td>\n",
       "      <td>NaN</td>\n",
       "      <td>NaN</td>\n",
       "    </tr>\n",
       "    <tr>\n",
       "      <th>1</th>\n",
       "      <td>24/11/2020 11:14:16</td>\n",
       "      <td>26.0</td>\n",
       "      <td>Male</td>\n",
       "      <td>Berlin</td>\n",
       "      <td>Backend Developer</td>\n",
       "      <td>7</td>\n",
       "      <td>4</td>\n",
       "      <td>Senior</td>\n",
       "      <td>Ruby</td>\n",
       "      <td>NaN</td>\n",
       "      <td>...</td>\n",
       "      <td>5000</td>\n",
       "      <td>28</td>\n",
       "      <td>Full-time employee</td>\n",
       "      <td>Unlimited contract</td>\n",
       "      <td>English</td>\n",
       "      <td>101-1000</td>\n",
       "      <td>Product</td>\n",
       "      <td>No</td>\n",
       "      <td>NaN</td>\n",
       "      <td>NaN</td>\n",
       "    </tr>\n",
       "    <tr>\n",
       "      <th>2</th>\n",
       "      <td>24/11/2020 11:14:21</td>\n",
       "      <td>29.0</td>\n",
       "      <td>Male</td>\n",
       "      <td>Berlin</td>\n",
       "      <td>Software Engineer</td>\n",
       "      <td>12</td>\n",
       "      <td>6</td>\n",
       "      <td>Lead</td>\n",
       "      <td>Javascript / Typescript</td>\n",
       "      <td>Javascript / Typescript, Docker</td>\n",
       "      <td>...</td>\n",
       "      <td>100000</td>\n",
       "      <td>30</td>\n",
       "      <td>Self-employed (freelancer)</td>\n",
       "      <td>Temporary contract</td>\n",
       "      <td>English</td>\n",
       "      <td>101-1000</td>\n",
       "      <td>Product</td>\n",
       "      <td>Yes</td>\n",
       "      <td>NaN</td>\n",
       "      <td>NaN</td>\n",
       "    </tr>\n",
       "    <tr>\n",
       "      <th>3</th>\n",
       "      <td>24/11/2020 11:15:24</td>\n",
       "      <td>28.0</td>\n",
       "      <td>Male</td>\n",
       "      <td>Berlin</td>\n",
       "      <td>Frontend Developer</td>\n",
       "      <td>4</td>\n",
       "      <td>1</td>\n",
       "      <td>Junior</td>\n",
       "      <td>Javascript</td>\n",
       "      <td>NaN</td>\n",
       "      <td>...</td>\n",
       "      <td>NaN</td>\n",
       "      <td>24</td>\n",
       "      <td>Full-time employee</td>\n",
       "      <td>Unlimited contract</td>\n",
       "      <td>English</td>\n",
       "      <td>51-100</td>\n",
       "      <td>Startup</td>\n",
       "      <td>No</td>\n",
       "      <td>NaN</td>\n",
       "      <td>NaN</td>\n",
       "    </tr>\n",
       "    <tr>\n",
       "      <th>4</th>\n",
       "      <td>24/11/2020 11:15:46</td>\n",
       "      <td>37.0</td>\n",
       "      <td>Male</td>\n",
       "      <td>Berlin</td>\n",
       "      <td>Backend Developer</td>\n",
       "      <td>17</td>\n",
       "      <td>6</td>\n",
       "      <td>Senior</td>\n",
       "      <td>C# .NET</td>\n",
       "      <td>.NET, SQL, AWS, Docker</td>\n",
       "      <td>...</td>\n",
       "      <td>NaN</td>\n",
       "      <td>29</td>\n",
       "      <td>Full-time employee</td>\n",
       "      <td>Unlimited contract</td>\n",
       "      <td>English</td>\n",
       "      <td>101-1000</td>\n",
       "      <td>Product</td>\n",
       "      <td>No</td>\n",
       "      <td>NaN</td>\n",
       "      <td>NaN</td>\n",
       "    </tr>\n",
       "  </tbody>\n",
       "</table>\n",
       "<p>5 rows × 23 columns</p>\n",
       "</div>"
      ],
      "text/plain": [
       "                  date   age gender    city            position experience  \\\n",
       "0  24/11/2020 11:14:15  26.0   Male  Munich   Software Engineer          5   \n",
       "1  24/11/2020 11:14:16  26.0   Male  Berlin   Backend Developer          7   \n",
       "2  24/11/2020 11:14:21  29.0   Male  Berlin   Software Engineer         12   \n",
       "3  24/11/2020 11:15:24  28.0   Male  Berlin  Frontend Developer          4   \n",
       "4  24/11/2020 11:15:46  37.0   Male  Berlin   Backend Developer         17   \n",
       "\n",
       "  experience_germany employee_level         programming_lang  \\\n",
       "0                  3         Senior               TypeScript   \n",
       "1                  4         Senior                     Ruby   \n",
       "2                  6           Lead  Javascript / Typescript   \n",
       "3                  1         Junior               Javascript   \n",
       "4                  6         Senior                  C# .NET   \n",
       "\n",
       "                        other_prog  ...  employment_benefits_prev  \\\n",
       "0  Kotlin, Javascript / Typescript  ...                     10000   \n",
       "1                              NaN  ...                      5000   \n",
       "2  Javascript / Typescript, Docker  ...                    100000   \n",
       "3                              NaN  ...                       NaN   \n",
       "4           .NET, SQL, AWS, Docker  ...                       NaN   \n",
       "\n",
       "  vacation_days           employment_status       contract_type language  \\\n",
       "0            30          Full-time employee  Unlimited contract  English   \n",
       "1            28          Full-time employee  Unlimited contract  English   \n",
       "2            30  Self-employed (freelancer)  Temporary contract  English   \n",
       "3            24          Full-time employee  Unlimited contract  English   \n",
       "4            29          Full-time employee  Unlimited contract  English   \n",
       "\n",
       "  company_size company_type covid_laidoff hoursforced addmoney_received  \n",
       "0       51-100      Product            No         NaN               NaN  \n",
       "1     101-1000      Product            No         NaN               NaN  \n",
       "2     101-1000      Product           Yes         NaN               NaN  \n",
       "3       51-100      Startup            No         NaN               NaN  \n",
       "4     101-1000      Product            No         NaN               NaN  \n",
       "\n",
       "[5 rows x 23 columns]"
      ]
     },
     "execution_count": 5,
     "metadata": {},
     "output_type": "execute_result"
    }
   ],
   "source": [
    "df1.rename(columns=\n",
    "    {'Timestamp': 'date',\n",
    "    'Age':'age',\n",
    "    'Gender':'gender', \n",
    "    'City':'city', \n",
    "    'Position ':'position',\n",
    "    'Total years of experience':'experience', \n",
    "    'Years of experience in Germany':'experience_germany',\n",
    "    'Seniority level':'employee_level', \n",
    "    'Your main technology / programming language':'programming_lang',\n",
    "    'Other technologies/programming languages you use often':'other_prog',\n",
    "    'Yearly brutto salary (without bonus and stocks) in EUR':'basic_salary',\n",
    "    'Yearly bonus + stocks in EUR':'employment_benefits',\n",
    "    'Annual brutto salary (without bonus and stocks) one year ago. Only answer if staying in the same country':'basic_salary_prev',\n",
    "    'Annual bonus+stocks one year ago. Only answer if staying in same country':'employment_benefits_prev',\n",
    "    'Number of vacation days':'vacation_days',\n",
    "    'Employment status':'employment_status',\n",
    "    'Сontract duration':'contract_type',\n",
    "    'Main language at work':'language', \n",
    "    'Company size':'company_size', \n",
    "    'Company type':'company_type',\n",
    "    'Have you lost your job due to the coronavirus outbreak?':'covid_laidoff',\n",
    "    'Have you been forced to have a shorter working week (Kurzarbeit)? If yes, how many hours per week':'hoursforced',\n",
    "    'Have you received additional monetary support from your employer due to Work From Home? If yes, how much in 2020 in EUR':'addmoney_received'\n",
    "    }, inplace= True\n",
    "    )\n",
    "df1.head()"
   ]
  },
  {
   "attachments": {},
   "cell_type": "markdown",
   "metadata": {},
   "source": [
    "## Inspecting Our DataFrame for Missing Values and Data Types"
   ]
  },
  {
   "cell_type": "code",
   "execution_count": null,
   "metadata": {},
   "outputs": [
    {
     "name": "stdout",
     "output_type": "stream",
     "text": [
      "<class 'pandas.core.frame.DataFrame'>\n",
      "RangeIndex: 1253 entries, 0 to 1252\n",
      "Data columns (total 23 columns):\n",
      " #   Column                    Non-Null Count  Dtype  \n",
      "---  ------                    --------------  -----  \n",
      " 0   date                      1253 non-null   object \n",
      " 1   age                       1226 non-null   float64\n",
      " 2   gender                    1243 non-null   object \n",
      " 3   city                      1253 non-null   object \n",
      " 4   position                  1247 non-null   object \n",
      " 5   experience                1237 non-null   object \n",
      " 6   experience_germany        1221 non-null   object \n",
      " 7   employee_level            1241 non-null   object \n",
      " 8   programming_lang          1126 non-null   object \n",
      " 9   other_prog                1096 non-null   object \n",
      " 10  basic_salary              1253 non-null   float64\n",
      " 11  employment_benefits       829 non-null    object \n",
      " 12  basic_salary_prev         885 non-null    float64\n",
      " 13  employment_benefits_prev  614 non-null    object \n",
      " 14  vacation_days             1185 non-null   object \n",
      " 15  employment_status         1236 non-null   object \n",
      " 16  contract_type             1224 non-null   object \n",
      " 17  language                  1237 non-null   object \n",
      " 18  company_size              1235 non-null   object \n",
      " 19  company_type              1228 non-null   object \n",
      " 20  covid_laidoff             1233 non-null   object \n",
      " 21  hoursforced               373 non-null    float64\n",
      " 22  addmoney_received         462 non-null    object \n",
      "dtypes: float64(4), object(19)\n",
      "memory usage: 225.3+ KB\n"
     ]
    }
   ],
   "source": [
    "df1.info()"
   ]
  },
  {
   "attachments": {},
   "cell_type": "markdown",
   "metadata": {},
   "source": [
    "We can note that our data set has alot of missing values in the main questions. Let's dive deeper to know which of the columns have lots of missing variables and how to handle them."
   ]
  },
  {
   "cell_type": "code",
   "execution_count": null,
   "metadata": {},
   "outputs": [
    {
     "data": {
      "text/plain": [
       "hoursforced                 880\n",
       "addmoney_received           791\n",
       "employment_benefits_prev    639\n",
       "employment_benefits         424\n",
       "basic_salary_prev           368\n",
       "other_prog                  157\n",
       "programming_lang            127\n",
       "vacation_days                68\n",
       "experience_germany           32\n",
       "contract_type                29\n",
       "age                          27\n",
       "company_type                 25\n",
       "covid_laidoff                20\n",
       "company_size                 18\n",
       "employment_status            17\n",
       "experience                   16\n",
       "language                     16\n",
       "employee_level               12\n",
       "gender                       10\n",
       "position                      6\n",
       "city                          0\n",
       "basic_salary                  0\n",
       "date                          0\n",
       "dtype: int64"
      ]
     },
     "execution_count": 7,
     "metadata": {},
     "output_type": "execute_result"
    }
   ],
   "source": [
    "df1.isna().sum().sort_values(ascending=False)"
   ]
  },
  {
   "attachments": {},
   "cell_type": "markdown",
   "metadata": {},
   "source": [
    "We can note that most of the columns with missing values are based on different working conditions and features which are not uniform in most companies."
   ]
  },
  {
   "attachments": {},
   "cell_type": "markdown",
   "metadata": {},
   "source": [
    "## Inspecting composition and basic information of survey participants"
   ]
  },
  {
   "attachments": {},
   "cell_type": "markdown",
   "metadata": {},
   "source": [
    "### Age\n"
   ]
  },
  {
   "cell_type": "code",
   "execution_count": null,
   "metadata": {},
   "outputs": [
    {
     "data": {
      "text/plain": [
       "count    1226.000000\n",
       "mean       32.509788\n",
       "std         5.663804\n",
       "min        20.000000\n",
       "25%        29.000000\n",
       "50%        32.000000\n",
       "75%        35.000000\n",
       "max        69.000000\n",
       "Name: age, dtype: float64"
      ]
     },
     "execution_count": 8,
     "metadata": {},
     "output_type": "execute_result"
    }
   ],
   "source": [
    "df1[\"age\"].describe()"
   ]
  },
  {
   "attachments": {},
   "cell_type": "markdown",
   "metadata": {},
   "source": [
    "The participants of the survey were mostly 30 years of Age with the oldest being 69Years while the youngest  years of Age."
   ]
  },
  {
   "cell_type": "code",
   "execution_count": null,
   "metadata": {},
   "outputs": [
    {
     "data": {
      "text/plain": [
       "30.0    110\n",
       "33.0     94\n",
       "32.0     94\n",
       "28.0     87\n",
       "31.0     87\n",
       "29.0     86\n",
       "35.0     82\n",
       "34.0     74\n",
       "36.0     60\n",
       "26.0     59\n",
       "Name: age, dtype: int64"
      ]
     },
     "execution_count": 9,
     "metadata": {},
     "output_type": "execute_result"
    }
   ],
   "source": [
    "df1[\"age\"].value_counts().head(10)"
   ]
  },
  {
   "attachments": {},
   "cell_type": "markdown",
   "metadata": {},
   "source": [
    "A deeper look into the most common age in years for the participants validate that."
   ]
  },
  {
   "attachments": {},
   "cell_type": "markdown",
   "metadata": {},
   "source": [
    "### Gender"
   ]
  },
  {
   "cell_type": "code",
   "execution_count": null,
   "metadata": {},
   "outputs": [
    {
     "data": {
      "text/plain": [
       "Male       1049\n",
       "Female      192\n",
       "Diverse       2\n",
       "Name: gender, dtype: int64"
      ]
     },
     "execution_count": 10,
     "metadata": {},
     "output_type": "execute_result"
    }
   ],
   "source": [
    "df1[\"gender\"].value_counts()"
   ]
  },
  {
   "attachments": {},
   "cell_type": "markdown",
   "metadata": {},
   "source": [
    "The participants identified as Male, Female or Diverse. The survey tends to how that most of IT workers in the EU are Male with the Diverse being the minority. This can be clearing depicted by a pictorial representation below."
   ]
  },
  {
   "cell_type": "code",
   "execution_count": null,
   "metadata": {},
   "outputs": [
    {
     "data": {
      "text/plain": [
       "<AxesSubplot: title={'center': 'Gender Distribution of IT Workers in EU 2020'}, xlabel='Frequency [count]', ylabel='Gender'>"
      ]
     },
     "execution_count": 11,
     "metadata": {},
     "output_type": "execute_result"
    },
    {
     "data": {
      "image/png": "[encoded data removed]",
      "text/plain": [
       "<Figure size 640x480 with 1 Axes>"
      ]
     },
     "metadata": {},
     "output_type": "display_data"
    }
   ],
   "source": [
    "df1[\"gender\"].value_counts().plot(kind=\"barh\", xlabel= \"Frequency [count]\", ylabel=\"Gender\", title=\"Gender Distribution of IT Workers in EU 2020\")"
   ]
  },
  {
   "attachments": {},
   "cell_type": "markdown",
   "metadata": {},
   "source": [
    "### City"
   ]
  },
  {
   "cell_type": "code",
   "execution_count": null,
   "metadata": {},
   "outputs": [
    {
     "data": {
      "text/plain": [
       "Berlin         0.543496\n",
       "Munich         0.188348\n",
       "Frankfurt      0.035116\n",
       "Hamburg        0.031923\n",
       "Stuttgart      0.020750\n",
       "Cologne        0.015962\n",
       "Amsterdam      0.007183\n",
       "Stuttgart      0.005587\n",
       "Prague         0.004789\n",
       "Karlsruhe      0.004789\n",
       "Moscow         0.004789\n",
       "Düsseldorf     0.004789\n",
       "Stockholm      0.003990\n",
       "Zurich         0.003990\n",
       "London         0.003990\n",
       "Düsseldorf     0.003192\n",
       "Helsinki       0.003192\n",
       "Nürnberg       0.003192\n",
       "Heidelberg     0.003192\n",
       "Darmstadt      0.002394\n",
       "Name: city, dtype: float64"
      ]
     },
     "execution_count": 12,
     "metadata": {},
     "output_type": "execute_result"
    }
   ],
   "source": [
    "df1[\"city\"].value_counts(normalize=True).head(20)"
   ]
  },
  {
   "attachments": {},
   "cell_type": "markdown",
   "metadata": {},
   "source": [
    "Most of the participants are from Germany with the cities in Germany having most participants. Half of the respondents are from Berlin. "
   ]
  },
  {
   "cell_type": "code",
   "execution_count": null,
   "metadata": {},
   "outputs": [
    {
     "data": {
      "image/png": "[encoded data removed]",
      "text/plain": [
       "<Figure size 640x480 with 1 Axes>"
      ]
     },
     "metadata": {},
     "output_type": "display_data"
    }
   ],
   "source": [
    "df1[\"city\"].value_counts().head(20).plot(kind = \"bar\", xlabel= \"European Union City\", ylabel=\" Frequency [count]\", title= \"Cities Represented in the IT Salary Survey 2020\");"
   ]
  },
  {
   "attachments": {},
   "cell_type": "markdown",
   "metadata": {},
   "source": [
    "### Job Position"
   ]
  },
  {
   "cell_type": "code",
   "execution_count": null,
   "metadata": {},
   "outputs": [
    {
     "data": {
      "text/plain": [
       "Software Engineer      31.034483\n",
       "Backend Developer      13.953488\n",
       "Data Scientist          8.821171\n",
       "Frontend Developer      7.137129\n",
       "QA Engineer             5.693665\n",
       "DevOps                  4.570970\n",
       "Mobile Developer        4.250200\n",
       "ML Engineer             3.368083\n",
       "Product Manager         3.127506\n",
       "Data Engineer           2.004812\n",
       "Designer (UI/UX)        1.283079\n",
       "Engineering Manager     0.801925\n",
       "Data Analyst            0.641540\n",
       "CTO                     0.400962\n",
       "SRE                     0.320770\n",
       "Fullstack Developer     0.320770\n",
       "Project Manager         0.320770\n",
       "Software Architect      0.320770\n",
       "Team Lead               0.240577\n",
       "Hardware Engineer       0.240577\n",
       "Name: position, dtype: float64"
      ]
     },
     "execution_count": 17,
     "metadata": {},
     "output_type": "execute_result"
    }
   ],
   "source": [
    "\n",
    "(df1[\"position\"].value_counts(normalize=True)*100).head(20)"
   ]
  },
  {
   "attachments": {},
   "cell_type": "markdown",
   "metadata": {},
   "source": [
    "\n",
    "The common IT jobs of the participants were Software Engineers`( 31 % )`, Backend Developers `(14 %)` , Data Scientist `(9 %)` and Frontend Developer `(7 %)` ."
   ]
  },
  {
   "attachments": {},
   "cell_type": "markdown",
   "metadata": {},
   "source": [
    "### Seniority  Level"
   ]
  },
  {
   "cell_type": "code",
   "execution_count": null,
   "metadata": {},
   "outputs": [
    {
     "data": {
      "text/plain": [
       "Senior             565\n",
       "Middle             366\n",
       "Lead               166\n",
       "Junior              79\n",
       "Head                44\n",
       "Principal            3\n",
       "student              1\n",
       "Intern               1\n",
       "Entry level          1\n",
       "Working Student      1\n",
       "Name: employee_level, dtype: int64"
      ]
     },
     "execution_count": 54,
     "metadata": {},
     "output_type": "execute_result"
    }
   ],
   "source": [
    "df1[\"employee_level\"].value_counts().head(10)\n"
   ]
  },
  {
   "attachments": {},
   "cell_type": "markdown",
   "metadata": {},
   "source": [
    "The survey has a composition of IT Practitioners most in the upper hierarchy in their companies. We can take a deeper look to check if their is an association of Age and Seniority level."
   ]
  },
  {
   "cell_type": "code",
   "execution_count": null,
   "metadata": {},
   "outputs": [
    {
     "data": {
      "text/plain": [
       "employee_level  age \n",
       "Senior          30.0    54\n",
       "                33.0    53\n",
       "                32.0    50\n",
       "                35.0    47\n",
       "                34.0    42\n",
       "                31.0    41\n",
       "Middle          28.0    37\n",
       "                29.0    37\n",
       "Senior          29.0    36\n",
       "Middle          26.0    36\n",
       "                30.0    35\n",
       "Senior          28.0    33\n",
       "Middle          27.0    30\n",
       "Senior          36.0    26\n",
       "Middle          31.0    26\n",
       "Senior          37.0    24\n",
       "Middle          25.0    23\n",
       "Senior          38.0    23\n",
       "Middle          33.0    22\n",
       "Lead            34.0    20\n",
       "Name: age, dtype: int64"
      ]
     },
     "execution_count": 56,
     "metadata": {},
     "output_type": "execute_result"
    }
   ],
   "source": [
    "df1[\"age\"].groupby(df1[\"employee_level\"]).value_counts().sort_values(ascending=False).head(20)"
   ]
  },
  {
   "attachments": {},
   "cell_type": "markdown",
   "metadata": {},
   "source": [
    "We can see most of the participants in the age group `(30-35)` holds the most senior positions in the respective roles."
   ]
  },
  {
   "cell_type": "code",
   "execution_count": null,
   "metadata": {},
   "outputs": [
    {
     "data": {
      "text/plain": [
       "0               30\n",
       "1               28\n",
       "2               30\n",
       "3               24\n",
       "4               29\n",
       "           ...    \n",
       "1248            26\n",
       "1249    unlimited \n",
       "1250            28\n",
       "1251            27\n",
       "1252            30\n",
       "Name: vacation_days, Length: 1253, dtype: string"
      ]
     },
     "execution_count": 83,
     "metadata": {},
     "output_type": "execute_result"
    }
   ],
   "source": [
    "df1[\"vacation_days\"].convert_dtypes(infer_objects=False)"
   ]
  },
  {
   "cell_type": "code",
   "execution_count": null,
   "metadata": {},
   "outputs": [],
   "source": []
  }
 ],
 "metadata": {
  "kernelspec": {
   "display_name": "Python 3",
   "language": "python",
   "name": "python3"
  },
  "language_info": {
   "codemirror_mode": {
    "name": "ipython",
    "version": 3
   },
   "file_extension": ".py",
   "mimetype": "text/x-python",
   "name": "python",
   "nbconvert_exporter": "python",
   "pygments_lexer": "ipython3",
   "version": "3.9.13"
  },
  "orig_nbformat": 4,
  "vscode": {
   "interpreter": {
    "hash": "0e2b774fbaab44ff543f02a32ce55460e0d4e68f77640d9e006920ee1173c352"
   }
  }
 },
 "nbformat": 4,
 "nbformat_minor": 2
}
